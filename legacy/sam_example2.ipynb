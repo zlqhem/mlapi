{
  "nbformat": 4,
  "nbformat_minor": 0,
  "metadata": {
    "colab": {
      "provenance": [],
      "gpuType": "T4",
      "authorship_tag": "ABX9TyMO7RLRal0hmoJ/O+Endvnt",
      "include_colab_link": true
    },
    "kernelspec": {
      "name": "python3",
      "display_name": "Python 3"
    },
    "language_info": {
      "name": "python"
    },
    "accelerator": "GPU"
  },
  "cells": [
    {
      "cell_type": "markdown",
      "metadata": {
        "id": "view-in-github",
        "colab_type": "text"
      },
      "source": [
        "<a href=\"https://colab.research.google.com/github/zlqhem/mlapi/blob/main/sam_example2.ipynb\" target=\"_parent\"><img src=\"https://colab.research.google.com/assets/colab-badge.svg\" alt=\"Open In Colab\"/></a>"
      ]
    },
    {
      "cell_type": "code",
      "execution_count": null,
      "metadata": {
        "id": "hlYbcPRZqAIr"
      },
      "outputs": [],
      "source": [
        "%%capture\n",
        "%cd /content/\n",
        "!git clone https://github.com/zlqhem/mlapi"
      ]
    },
    {
      "cell_type": "code",
      "source": [
        "%%capture\n",
        "!curl \"https://awscli.amazonaws.com/awscli-exe-linux-x86_64.zip\" -o \"awscliv2.zip\""
      ],
      "metadata": {
        "id": "ovSEjLk8SxFA"
      },
      "execution_count": null,
      "outputs": []
    },
    {
      "cell_type": "code",
      "source": [
        "%%capture\n",
        "!unzip awscliv2.zip"
      ],
      "metadata": {
        "id": "qj7uhtZqTBrh"
      },
      "execution_count": null,
      "outputs": []
    },
    {
      "cell_type": "code",
      "source": [
        "!sudo ./aws/install"
      ],
      "metadata": {
        "colab": {
          "base_uri": "https://localhost:8080/"
        },
        "id": "FuiGVhDsTHBO",
        "outputId": "63338a40-24b3-41fd-beef-5ccd1217e150"
      },
      "execution_count": null,
      "outputs": [
        {
          "output_type": "stream",
          "name": "stdout",
          "text": [
            "You can now run: /usr/local/bin/aws --version\n"
          ]
        }
      ]
    },
    {
      "cell_type": "code",
      "source": [
        "\n",
        "%env AWS_ACCESS_KEY_ID=edithere\n",
        "%env AWS_SECRET_ACCESS_KEY=edithere\n",
        "%env AWS_DEFAULT_REGION=us-east-1\n",
        "%env MODEL_BUCKET=saltware.test\n",
        "%env MODEL_KEY=v1/model.tar.gz"
      ],
      "metadata": {
        "id": "axLs8APSghy_"
      },
      "execution_count": null,
      "outputs": []
    },
    {
      "cell_type": "code",
      "source": [
        "%%capture\n",
        "!pip install aws-sam-cli"
      ],
      "metadata": {
        "id": "nrx7AmwXqlKJ"
      },
      "execution_count": null,
      "outputs": []
    },
    {
      "cell_type": "markdown",
      "source": [
        "# sam-pytorch"
      ],
      "metadata": {
        "id": "qRGnl-d2o6vI"
      }
    },
    {
      "cell_type": "markdown",
      "source": [
        "* [fastai-deploy-awslambda](https://course19.fast.ai/deployment_aws_lambda.html)"
      ],
      "metadata": {
        "id": "-IGUkvXiqZsr"
      }
    },
    {
      "cell_type": "code",
      "source": [
        "%cd /content/\n",
        "!wget https://github.com/fastai/course-v3/raw/master/docs/production/aws-lambda.zip\n",
        "!mkdir aws-lambda\n",
        "!cp aws-lambda.zip aws-lambda/\n",
        "%cd /content/aws-lambda\n",
        "!unzip aws-lambda.zip"
      ],
      "metadata": {
        "colab": {
          "base_uri": "https://localhost:8080/"
        },
        "id": "dziFkEf_o_4T",
        "outputId": "a7cd412a-be8e-4cc0-aa72-b7a6468e6bf0"
      },
      "execution_count": null,
      "outputs": [
        {
          "output_type": "stream",
          "name": "stdout",
          "text": [
            "/content\n",
            "--2023-12-07 23:38:41--  https://github.com/fastai/course-v3/raw/master/docs/production/aws-lambda.zip\n",
            "Resolving github.com (github.com)... 140.82.113.4\n",
            "Connecting to github.com (github.com)|140.82.113.4|:443... connected.\n",
            "HTTP request sent, awaiting response... 302 Found\n",
            "Location: https://raw.githubusercontent.com/fastai/course-v3/master/docs/production/aws-lambda.zip [following]\n",
            "--2023-12-07 23:38:42--  https://raw.githubusercontent.com/fastai/course-v3/master/docs/production/aws-lambda.zip\n",
            "Resolving raw.githubusercontent.com (raw.githubusercontent.com)... 185.199.108.133, 185.199.111.133, 185.199.109.133, ...\n",
            "Connecting to raw.githubusercontent.com (raw.githubusercontent.com)|185.199.108.133|:443... connected.\n",
            "HTTP request sent, awaiting response... 200 OK\n",
            "Length: 4574 (4.5K) [application/zip]\n",
            "Saving to: ‘aws-lambda.zip.1’\n",
            "\n",
            "aws-lambda.zip.1    100%[===================>]   4.47K  --.-KB/s    in 0s      \n",
            "\n",
            "2023-12-07 23:38:42 (57.6 MB/s) - ‘aws-lambda.zip.1’ saved [4574/4574]\n",
            "\n",
            "/content/aws-lambda\n",
            "Archive:  aws-lambda.zip\n",
            "   creating: pytorch/\n",
            " extracting: pytorch/__init__.py     \n",
            "  inflating: pytorch/app.py          \n",
            "  inflating: template.yaml           \n",
            "  inflating: event.json              \n"
          ]
        }
      ]
    },
    {
      "cell_type": "code",
      "source": [
        "%cd /content/aws-lambda"
      ],
      "metadata": {
        "colab": {
          "base_uri": "https://localhost:8080/"
        },
        "id": "ewTInQ9PpgTX",
        "outputId": "f31e8e37-b1c5-4ca8-a882-87724cb9cda4"
      },
      "execution_count": null,
      "outputs": [
        {
          "output_type": "stream",
          "name": "stdout",
          "text": [
            "/content/aws-lambda\n"
          ]
        }
      ]
    },
    {
      "cell_type": "code",
      "source": [
        "import os\n",
        "os.environ.get('MODEL_BUCKET')"
      ],
      "metadata": {
        "colab": {
          "base_uri": "https://localhost:8080/",
          "height": 35
        },
        "id": "MCjsRs11siTy",
        "outputId": "337ebf32-6678-44d0-c24c-320c120b6451"
      },
      "execution_count": null,
      "outputs": [
        {
          "output_type": "execute_result",
          "data": {
            "text/plain": [
              "'saltware.test'"
            ],
            "application/vnd.google.colaboratory.intrinsic+json": {
              "type": "string"
            }
          },
          "metadata": {},
          "execution_count": 54
        }
      ]
    },
    {
      "cell_type": "code",
      "source": [
        "!sam --debug package \\\n",
        "    --output-template-file packaged.yaml \\\n",
        "    --s3-bucket saltware.test"
      ],
      "metadata": {
        "colab": {
          "base_uri": "https://localhost:8080/"
        },
        "id": "t4PPrah2rpbH",
        "outputId": "c58705ec-5623-43af-8e38-068d5df2d786"
      },
      "execution_count": null,
      "outputs": [
        {
          "output_type": "stream",
          "name": "stdout",
          "text": [
            "\r\tUploading to a2f0b922f3e0c1c7ff3cb5b25da6087e  2113 / 2113  (100.00%)\n",
            "Error: Unable to upload artifact pytorch/ referenced by CodeUri parameter of PyTorchFunction resource.\n",
            "\n",
            "S3 Bucket does not exist.\n"
          ]
        }
      ]
    },
    {
      "cell_type": "markdown",
      "source": [
        "# sam-hello"
      ],
      "metadata": {
        "id": "7tA72C2-o1kH"
      }
    },
    {
      "cell_type": "code",
      "source": [
        "%cd /content/"
      ],
      "metadata": {
        "colab": {
          "base_uri": "https://localhost:8080/"
        },
        "id": "LwQWD-falf7U",
        "outputId": "1003fff1-602e-444b-94ed-852e2d5a36ee"
      },
      "execution_count": null,
      "outputs": [
        {
          "output_type": "stream",
          "name": "stdout",
          "text": [
            "/content\n"
          ]
        }
      ]
    },
    {
      "cell_type": "markdown",
      "source": [
        "## sam init"
      ],
      "metadata": {
        "id": "kgWzRVS2pmpY"
      }
    },
    {
      "cell_type": "code",
      "source": [
        "!sam init"
      ],
      "metadata": {
        "colab": {
          "base_uri": "https://localhost:8080/"
        },
        "id": "1EmSLw-0lh5G",
        "outputId": "6535973b-1d8a-4786-aa76-1706d3bfc8aa"
      },
      "execution_count": null,
      "outputs": [
        {
          "output_type": "stream",
          "name": "stdout",
          "text": [
            "\u001b[33m\u001b[1m\n",
            "You can preselect a particular runtime or package type when using the `sam init` experience.\n",
            "Call `sam init --help` to learn more.\n",
            "\u001b[0m\n",
            "Which template source would you like to use?\n",
            "\t1 - AWS Quick Start Templates\n",
            "\t2 - Custom Template Location\n",
            "Choice: 1\n",
            "\n",
            "Choose an AWS Quick Start application template\n",
            "\t1 - Hello World Example\n",
            "\t2 - Data processing\n",
            "\t3 - Hello World Example with Powertools for AWS Lambda\n",
            "\t4 - Multi-step workflow\n",
            "\t5 - Scheduled task\n",
            "\t6 - Standalone function\n",
            "\t7 - Serverless API\n",
            "\t8 - Infrastructure event management\n",
            "\t9 - Lambda Response Streaming\n",
            "\t10 - Serverless Connector Hello World Example\n",
            "\t11 - Multi-step workflow with Connectors\n",
            "\t12 - GraphQLApi Hello World Example\n",
            "\t13 - Full Stack\n",
            "\t14 - Lambda EFS example\n",
            "\t15 - Hello World Example With Powertools for AWS Lambda\n",
            "\t16 - DynamoDB Example\n",
            "\t17 - Machine Learning\n",
            "Template: 1\n",
            "\n",
            "Use the most popular runtime and package type? (Python and zip) [y/N]: y\n",
            "\n",
            "Would you like to enable X-Ray tracing on the function(s) in your application?  [y/N]: N\n",
            "\n",
            "Would you like to enable monitoring using CloudWatch Application Insights?\n",
            "For more info, please view https://docs.aws.amazon.com/AmazonCloudWatch/latest/monitoring/cloudwatch-application-insights.html [y/N]: N\n",
            "\n",
            "Would you like to set Structured Logging in JSON format on your Lambda functions?  [y/N]: y\n",
            "Structured Logging in JSON format might incur an additional cost. View https://docs.aws.amazon.com/lambda/latest/dg/monitoring-cloudwatchlogs.html#monitoring-cloudwatchlogs-pricing for more details\n",
            "\n",
            "Project name [sam-app]: sam-hello\n",
            "\n",
            "    -----------------------\n",
            "    Generating application:\n",
            "    -----------------------\n",
            "    Name: sam-hello\n",
            "    Runtime: python3.9\n",
            "    Architectures: x86_64\n",
            "    Dependency Manager: pip\n",
            "    Application Template: hello-world\n",
            "    Output Directory: .\n",
            "    Configuration file: sam-hello/samconfig.toml\n",
            "    \n",
            "    Next steps can be found in the README file at sam-hello/README.md\n",
            "        \n",
            "\u001b[33m\n",
            "Commands you can use next\n",
            "=========================\n",
            "[*] Create pipeline: cd sam-hello && sam pipeline init --bootstrap\n",
            "[*] Validate SAM template: cd sam-hello && sam validate\n",
            "[*] Test Function in the Cloud: cd sam-hello && sam sync --stack-name {stack-name} --watch\n",
            "\u001b[0m\n"
          ]
        }
      ]
    },
    {
      "cell_type": "code",
      "source": [
        "%cd /content/sam-hello"
      ],
      "metadata": {
        "colab": {
          "base_uri": "https://localhost:8080/"
        },
        "id": "-wa16SadlvJN",
        "outputId": "4e673186-0766-493b-aeb7-09e37ad91eed"
      },
      "execution_count": null,
      "outputs": [
        {
          "output_type": "stream",
          "name": "stdout",
          "text": [
            "/content/sam-hello\n"
          ]
        }
      ]
    },
    {
      "cell_type": "code",
      "source": [
        "!aws configure list"
      ],
      "metadata": {
        "colab": {
          "base_uri": "https://localhost:8080/"
        },
        "id": "4dwD6zWVmvZZ",
        "outputId": "8d5da2cd-6f25-44ec-b527-35024573defd"
      },
      "execution_count": null,
      "outputs": [
        {
          "output_type": "stream",
          "name": "stdout",
          "text": [
            "      Name                    Value             Type    Location\n",
            "      ----                    -----             ----    --------\n",
            "   profile                <not set>             None    None\n",
            "access_key     ****************NHCC              env    \n",
            "secret_key     ****************EKEY              env    \n",
            "    region                us-east-1              env    ['AWS_REGION', 'AWS_DEFAULT_REGION']\n"
          ]
        }
      ]
    },
    {
      "cell_type": "code",
      "source": [
        "!aws iam list-users"
      ],
      "metadata": {
        "colab": {
          "base_uri": "https://localhost:8080/"
        },
        "id": "ndLsMYaRnXRe",
        "outputId": "0a71a0f2-4209-4930-c40a-328b2c36ed5b"
      },
      "execution_count": null,
      "outputs": [
        {
          "output_type": "stream",
          "name": "stdout",
          "text": [
            "{\n",
            "    \"Users\": [\n",
            "        {\n",
            "            \"Path\": \"/\",\n",
            "            \"UserName\": \"lambda_user\",\n",
            "            \"UserId\": \"AIDARZTFYI4GMOM5SR2B6\",\n",
            "            \"Arn\": \"arn:aws:iam::123693713164:user/lambda_user\",\n",
            "            \"CreateDate\": \"2023-11-16T07:01:51+00:00\",\n",
            "            \"PasswordLastUsed\": \"2023-11-16T07:19:17+00:00\"\n",
            "        }\n",
            "    ]\n",
            "}\n"
          ]
        }
      ]
    },
    {
      "cell_type": "markdown",
      "source": [
        "## sam deploy"
      ],
      "metadata": {
        "id": "AKnvfoOjpq17"
      }
    },
    {
      "cell_type": "code",
      "source": [
        "!sam deploy"
      ],
      "metadata": {
        "colab": {
          "base_uri": "https://localhost:8080/"
        },
        "id": "sToL0Co0lxrA",
        "outputId": "5dfabbf7-e442-4b50-c3de-cbd8e89cbbc8"
      },
      "execution_count": null,
      "outputs": [
        {
          "output_type": "stream",
          "name": "stdout",
          "text": [
            "\n",
            "\t\tManaged S3 bucket: aws-sam-cli-managed-default-samclisourcebucket-100l8dm736jaj\n",
            "\t\tA different default S3 bucket can be set in samconfig.toml\n",
            "\t\tOr by specifying --s3-bucket explicitly.\n",
            "File with same data already exists at c6ce8fa8b5a97dd022ecd006536eb5a4, skipping upload             \n",
            "\u001b[33m\n",
            "\tDeploying with following values\n",
            "\t===============================\u001b[0m\n",
            "\tStack name                   : sam-hello\n",
            "\tRegion                       : us-east-1\n",
            "\tConfirm changeset            : True\n",
            "\tDisable rollback             : False\n",
            "\tDeployment s3 bucket         : aws-sam-cli-managed-default-samclisourcebucket-100l8dm736jaj\n",
            "\tCapabilities                 : [\"CAPABILITY_IAM\"]\n",
            "\tParameter overrides          : {}\n",
            "\tSigning Profiles             : {}\n",
            "\u001b[33m\n",
            "Initiating deployment\n",
            "=====================\n",
            "\u001b[0m\n",
            "\tUploading to 398287c0ba99b3f97590a5d0f9dfab68.template  1511 / 1511  (100.00%)\n",
            "\n",
            "\n",
            "Waiting for changeset to be created..\n",
            "\n",
            "\u001b[1mCloudFormation stack changeset\u001b[0m\n",
            "\u001b[33m-------------------------------------------------------------------------------------------------\u001b[0m\n",
            "\u001b[33mOperation                LogicalResourceId        ResourceType             Replacement            \u001b[0m\n",
            "\u001b[33m-------------------------------------------------------------------------------------------------\u001b[0m\n",
            "\u001b[33m* Modify                 HelloWorldFunction       AWS::Lambda::Function    False                  \u001b[0m\n",
            "\u001b[33m* Modify                 ServerlessRestApi        AWS::ApiGateway::RestA   False                  \u001b[0m\n",
            "\u001b[33m                                                  pi                                              \u001b[0m\n",
            "\u001b[33m-------------------------------------------------------------------------------------------------\n",
            "\u001b[0m\n",
            "\n",
            "Changeset created successfully. arn:aws:cloudformation:us-east-1:123693713164:changeSet/samcli-deploy1701993524/dcfb6595-bc05-4dff-97a4-5fe2f4d36241\n",
            "\n",
            "\u001b[33m\n",
            "Previewing CloudFormation changeset before deployment\u001b[0m\n",
            "\u001b[33m======================================================\u001b[0m\n",
            "Deploy this changeset? [y/N]: y\n",
            "\n",
            "2023-12-07 23:59:06 - Waiting for stack create/update to complete\n",
            "\u001b[1m\n",
            "CloudFormation events from stack operations (refresh every 5.0 seconds)\u001b[0m\n",
            "\u001b[33m-------------------------------------------------------------------------------------------------\u001b[0m\n",
            "\u001b[33mResourceStatus           ResourceType             LogicalResourceId        ResourceStatusReason   \u001b[0m\n",
            "\u001b[33m-------------------------------------------------------------------------------------------------\u001b[0m\n",
            "\u001b[33mUPDATE_IN_PROGRESS       AWS::CloudFormation::S   sam-hello                User Initiated         \u001b[0m\n",
            "\u001b[33m                         tack                                                                     \u001b[0m\n",
            "\u001b[33mUPDATE_IN_PROGRESS       AWS::Lambda::Function    HelloWorldFunction       -                      \u001b[0m\n",
            "\u001b[32mUPDATE_COMPLETE          AWS::Lambda::Function    HelloWorldFunction       -                      \u001b[0m\n",
            "\u001b[33mUPDATE_COMPLETE_CLEANU   AWS::CloudFormation::S   sam-hello                -                      \u001b[0m\n",
            "\u001b[33mP_IN_PROGRESS            tack                                                                     \u001b[0m\n",
            "\u001b[32mUPDATE_COMPLETE          AWS::CloudFormation::S   sam-hello                -                      \u001b[0m\n",
            "\u001b[32m                         tack                                                                     \u001b[0m\n",
            "\u001b[33m-------------------------------------------------------------------------------------------------\n",
            "\u001b[0m\n",
            "\u001b[1mCloudFormation outputs from deployed stack\u001b[0m\n",
            "\u001b[33m-------------------------------------------------------------------------------------------------\u001b[0m\n",
            "\u001b[33mOutputs                                                                                         \u001b[0m\n",
            "\u001b[33m-------------------------------------------------------------------------------------------------\u001b[0m\n",
            "\u001b[32mKey                 HelloWorldFunctionIamRole                                                   \u001b[0m\n",
            "\u001b[32mDescription         Implicit IAM Role created for Hello World function                          \u001b[0m\n",
            "\u001b[32mValue               arn:aws:iam::123693713164:role/sam-hello-HelloWorldFunctionRole-            \u001b[0m\n",
            "\u001b[32mrYuy5ijm0eRA                                                                                    \u001b[0m\n",
            "\n",
            "\u001b[32mKey                 HelloWorldApi                                                               \u001b[0m\n",
            "\u001b[32mDescription         API Gateway endpoint URL for Prod stage for Hello World function            \u001b[0m\n",
            "\u001b[32mValue               https://nmw1sa785f.execute-api.us-east-1.amazonaws.com/Prod/hello/          \u001b[0m\n",
            "\n",
            "\u001b[32mKey                 HelloWorldFunction                                                          \u001b[0m\n",
            "\u001b[32mDescription         Hello World Lambda Function ARN                                             \u001b[0m\n",
            "\u001b[32mValue               arn:aws:lambda:us-east-1:123693713164:function:sam-hello-                   \u001b[0m\n",
            "\u001b[32mHelloWorldFunction-UPH0rsxk7Aot                                                                 \u001b[0m\n",
            "\u001b[33m-------------------------------------------------------------------------------------------------\n",
            "\u001b[0m\n",
            "\n",
            "Successfully created/updated stack - sam-hello in us-east-1\n",
            "\n"
          ]
        }
      ]
    },
    {
      "cell_type": "code",
      "source": [
        "!cp /content/sam-hello/hello_world/app.py /content/sam-hello/hello_world/app.py.bak"
      ],
      "metadata": {
        "id": "20nW9oIiuWM1"
      },
      "execution_count": null,
      "outputs": []
    },
    {
      "cell_type": "code",
      "source": [
        "!cp /content/aws-lambda/pytorch/app.py /content/sam-hello/hello_world/app.py"
      ],
      "metadata": {
        "id": "4mAjaEhTuhxV"
      },
      "execution_count": null,
      "outputs": []
    },
    {
      "cell_type": "code",
      "source": [
        "!sam deploy"
      ],
      "metadata": {
        "colab": {
          "base_uri": "https://localhost:8080/"
        },
        "id": "aJ8_5lEFuuYh",
        "outputId": "bcb89339-b242-4e04-f37a-485adb6a1865"
      },
      "execution_count": null,
      "outputs": [
        {
          "output_type": "stream",
          "name": "stdout",
          "text": [
            "\n",
            "\t\tManaged S3 bucket: aws-sam-cli-managed-default-samclisourcebucket-100l8dm736jaj\n",
            "\t\tA different default S3 bucket can be set in samconfig.toml\n",
            "\t\tOr by specifying --s3-bucket explicitly.\n",
            "\tUploading to 960929b290a084cc492bf0b079485f0b  2846 / 2846  (100.00%)\n",
            "\u001b[33m\n",
            "\tDeploying with following values\n",
            "\t===============================\u001b[0m\n",
            "\tStack name                   : sam-hello\n",
            "\tRegion                       : us-east-1\n",
            "\tConfirm changeset            : True\n",
            "\tDisable rollback             : False\n",
            "\tDeployment s3 bucket         : aws-sam-cli-managed-default-samclisourcebucket-100l8dm736jaj\n",
            "\tCapabilities                 : [\"CAPABILITY_IAM\"]\n",
            "\tParameter overrides          : {}\n",
            "\tSigning Profiles             : {}\n",
            "\u001b[33m\n",
            "Initiating deployment\n",
            "=====================\n",
            "\u001b[0m\n",
            "\tUploading to 02b47890cab519ed2fabd591ea7aa5dd.template  1511 / 1511  (100.00%)\n",
            "\n",
            "\n",
            "Waiting for changeset to be created..\n",
            "\n",
            "\u001b[1mCloudFormation stack changeset\u001b[0m\n",
            "\u001b[33m-------------------------------------------------------------------------------------------------\u001b[0m\n",
            "\u001b[33mOperation                LogicalResourceId        ResourceType             Replacement            \u001b[0m\n",
            "\u001b[33m-------------------------------------------------------------------------------------------------\u001b[0m\n",
            "\u001b[33m* Modify                 HelloWorldFunction       AWS::Lambda::Function    False                  \u001b[0m\n",
            "\u001b[33m* Modify                 ServerlessRestApi        AWS::ApiGateway::RestA   False                  \u001b[0m\n",
            "\u001b[33m                                                  pi                                              \u001b[0m\n",
            "\u001b[33m-------------------------------------------------------------------------------------------------\n",
            "\u001b[0m\n",
            "\n",
            "Changeset created successfully. arn:aws:cloudformation:us-east-1:123693713164:changeSet/samcli-deploy1701993719/34a09962-9643-41b4-b579-0690716837ee\n",
            "\n",
            "\u001b[33m\n",
            "Previewing CloudFormation changeset before deployment\u001b[0m\n",
            "\u001b[33m======================================================\u001b[0m\n",
            "Deploy this changeset? [y/N]: y\n",
            "\n",
            "2023-12-08 00:02:17 - Waiting for stack create/update to complete\n",
            "\u001b[1m\n",
            "CloudFormation events from stack operations (refresh every 5.0 seconds)\u001b[0m\n",
            "\u001b[33m-------------------------------------------------------------------------------------------------\u001b[0m\n",
            "\u001b[33mResourceStatus           ResourceType             LogicalResourceId        ResourceStatusReason   \u001b[0m\n",
            "\u001b[33m-------------------------------------------------------------------------------------------------\u001b[0m\n",
            "\u001b[33mUPDATE_IN_PROGRESS       AWS::CloudFormation::S   sam-hello                User Initiated         \u001b[0m\n",
            "\u001b[33m                         tack                                                                     \u001b[0m\n",
            "\u001b[33mUPDATE_IN_PROGRESS       AWS::Lambda::Function    HelloWorldFunction       -                      \u001b[0m\n",
            "\u001b[32mUPDATE_COMPLETE          AWS::Lambda::Function    HelloWorldFunction       -                      \u001b[0m\n",
            "\u001b[33mUPDATE_COMPLETE_CLEANU   AWS::CloudFormation::S   sam-hello                -                      \u001b[0m\n",
            "\u001b[33mP_IN_PROGRESS            tack                                                                     \u001b[0m\n",
            "\u001b[32mUPDATE_COMPLETE          AWS::CloudFormation::S   sam-hello                -                      \u001b[0m\n",
            "\u001b[32m                         tack                                                                     \u001b[0m\n",
            "\u001b[33m-------------------------------------------------------------------------------------------------\n",
            "\u001b[0m\n",
            "\u001b[1mCloudFormation outputs from deployed stack\u001b[0m\n",
            "\u001b[33m-------------------------------------------------------------------------------------------------\u001b[0m\n",
            "\u001b[33mOutputs                                                                                         \u001b[0m\n",
            "\u001b[33m-------------------------------------------------------------------------------------------------\u001b[0m\n",
            "\u001b[32mKey                 HelloWorldFunctionIamRole                                                   \u001b[0m\n",
            "\u001b[32mDescription         Implicit IAM Role created for Hello World function                          \u001b[0m\n",
            "\u001b[32mValue               arn:aws:iam::123693713164:role/sam-hello-HelloWorldFunctionRole-            \u001b[0m\n",
            "\u001b[32mrYuy5ijm0eRA                                                                                    \u001b[0m\n",
            "\n",
            "\u001b[32mKey                 HelloWorldApi                                                               \u001b[0m\n",
            "\u001b[32mDescription         API Gateway endpoint URL for Prod stage for Hello World function            \u001b[0m\n",
            "\u001b[32mValue               https://nmw1sa785f.execute-api.us-east-1.amazonaws.com/Prod/hello/          \u001b[0m\n",
            "\n",
            "\u001b[32mKey                 HelloWorldFunction                                                          \u001b[0m\n",
            "\u001b[32mDescription         Hello World Lambda Function ARN                                             \u001b[0m\n",
            "\u001b[32mValue               arn:aws:lambda:us-east-1:123693713164:function:sam-hello-                   \u001b[0m\n",
            "\u001b[32mHelloWorldFunction-UPH0rsxk7Aot                                                                 \u001b[0m\n",
            "\u001b[33m-------------------------------------------------------------------------------------------------\n",
            "\u001b[0m\n",
            "\n",
            "Successfully created/updated stack - sam-hello in us-east-1\n",
            "\n"
          ]
        }
      ]
    },
    {
      "cell_type": "code",
      "source": [
        "!sam list endpoints --output json"
      ],
      "metadata": {
        "colab": {
          "base_uri": "https://localhost:8080/"
        },
        "id": "iWnjOdERoet6",
        "outputId": "53e09280-f0d5-4535-dccf-23385c89d1bf"
      },
      "execution_count": null,
      "outputs": [
        {
          "output_type": "stream",
          "name": "stdout",
          "text": [
            "[\n",
            "  {\n",
            "    \"LogicalResourceId\": \"HelloWorldFunction\",\n",
            "    \"PhysicalResourceId\": \"sam-hello-HelloWorldFunction-UPH0rsxk7Aot\",\n",
            "    \"CloudEndpoint\": \"-\",\n",
            "    \"Methods\": \"-\"\n",
            "  },\n",
            "  {\n",
            "    \"LogicalResourceId\": \"ServerlessRestApi\",\n",
            "    \"PhysicalResourceId\": \"nmw1sa785f\",\n",
            "    \"CloudEndpoint\": [\n",
            "      \"https://nmw1sa785f.execute-api.us-east-1.amazonaws.com/Prod\",\n",
            "      \"https://nmw1sa785f.execute-api.us-east-1.amazonaws.com/Stage\"\n",
            "    ],\n",
            "    \"Methods\": [\n",
            "      \"/hello['get']\"\n",
            "    ]\n",
            "  }\n",
            "]\n"
          ]
        }
      ]
    },
    {
      "cell_type": "code",
      "source": [
        "!curl https://nmw1sa785f.execute-api.us-east-1.amazonaws.com/Prod/hello/"
      ],
      "metadata": {
        "id": "JxJjdUoOvOl8",
        "outputId": "87ec04b3-295d-4dfd-f7f7-1579416df6a1",
        "colab": {
          "base_uri": "https://localhost:8080/"
        }
      },
      "execution_count": null,
      "outputs": [
        {
          "output_type": "stream",
          "name": "stdout",
          "text": [
            "{\"message\": \"Internal server error\"}"
          ]
        }
      ]
    },
    {
      "cell_type": "code",
      "source": [
        "!curl https://nmw1sa785f.execute-api.us-east-1.amazonaws.com/Prod/hello/"
      ],
      "metadata": {
        "colab": {
          "base_uri": "https://localhost:8080/"
        },
        "id": "KZb-ZGwXokPD",
        "outputId": "9b43ce81-6eeb-4154-da0a-fb8db93abcaf"
      },
      "execution_count": null,
      "outputs": [
        {
          "output_type": "stream",
          "name": "stdout",
          "text": [
            "{\"message\": \"hello world\"}"
          ]
        }
      ]
    },
    {
      "cell_type": "code",
      "source": [
        "!sam local start-api -n env.json"
      ],
      "metadata": {
        "colab": {
          "base_uri": "https://localhost:8080/"
        },
        "id": "gt-UFAgJXfcU",
        "outputId": "c0483b74-0369-4fdb-a887-3eab82da8865"
      },
      "execution_count": null,
      "outputs": [
        {
          "output_type": "stream",
          "name": "stdout",
          "text": [
            "WARNING: No BuildArchitecture specifed in Layer `\u001b[3;35mNone\u001b[0m` Metadata. Defaulting to x86_64.              \n",
            "Error: Running AWS SAM projects locally requires Docker. Have you got it installed and running?\n"
          ]
        }
      ]
    },
    {
      "cell_type": "code",
      "source": [],
      "metadata": {
        "colab": {
          "base_uri": "https://localhost:8080/"
        },
        "id": "SWuTLj1VYl5n",
        "outputId": "14fcbf76-fe19-4eb9-a22e-6ef8e96594cf"
      },
      "execution_count": null,
      "outputs": [
        {
          "output_type": "stream",
          "name": "stdout",
          "text": [
            "\u001b[33m\n",
            "\tSAM CLI now collects telemetry to better understand customer needs.\n",
            "\n",
            "\tYou can OPT OUT and disable telemetry collection by setting the\n",
            "\tenvironment variable SAM_CLI_TELEMETRY=0 in your shell.\n",
            "\tThanks for your help!\n",
            "\n",
            "\tLearn More: https://docs.aws.amazon.com/serverless-application-model/latest/developerguide/serverless-sam-telemetry.html\n",
            "\u001b[0m\n",
            "\tUploading to a2f0b922f3e0c1c7ff3cb5b25da6087e  2113 / 2113  (100.00%)\n",
            "Error: Unable to upload artifact pytorch/ referenced by CodeUri parameter of PyTorchFunction resource.\n",
            "An error occurred (SignatureDoesNotMatch) when calling the PutObject operation: The request signature we calculated does not match the signature you provided. Check your key and signing method.\n"
          ]
        }
      ]
    },
    {
      "cell_type": "code",
      "source": [],
      "metadata": {
        "id": "lQSAz6sjbUDG"
      },
      "execution_count": null,
      "outputs": []
    }
  ]
}