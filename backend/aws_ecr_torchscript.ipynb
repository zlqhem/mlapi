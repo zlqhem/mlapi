{
  "nbformat": 4,
  "nbformat_minor": 0,
  "metadata": {
    "colab": {
      "provenance": [],
      "gpuType": "T4",
      "toc_visible": true,
      "mount_file_id": "1ZSE9LiJhoGlCb7wTODFmuQfNpnnn6kuq",
      "authorship_tag": "ABX9TyOm8CCG2sRM2a6DojxRaBch",
      "include_colab_link": true
    },
    "kernelspec": {
      "name": "python3",
      "display_name": "Python 3"
    },
    "language_info": {
      "name": "python"
    },
    "accelerator": "GPU"
  },
  "cells": [
    {
      "cell_type": "markdown",
      "metadata": {
        "id": "view-in-github",
        "colab_type": "text"
      },
      "source": [
        "<a href=\"https://colab.research.google.com/github/zlqhem/mlapi/blob/main/backend/aws_ecr_torchscript.ipynb\" target=\"_parent\"><img src=\"https://colab.research.google.com/assets/colab-badge.svg\" alt=\"Open In Colab\"/></a>"
      ]
    },
    {
      "cell_type": "markdown",
      "source": [
        "# torchscript"
      ],
      "metadata": {
        "id": "xGdoe6EjzAdo"
      }
    },
    {
      "cell_type": "markdown",
      "source": [
        "## Use the deployed API\n"
      ],
      "metadata": {
        "id": "PCGpmodJAYVU"
      }
    },
    {
      "cell_type": "code",
      "source": [
        "import base64\n",
        "import json\n",
        "import numpy as np\n",
        "\n",
        "classes = np.array([\n",
        "  'Tomato Healthy',\n",
        "  'Strawberry Healthy',\n",
        "  'Lettuce Healthy',\n",
        "  'Strawberry Ashy Mold',\n",
        "  'Strawberry White Powdery Mildew',\n",
        "  'Lettuce Bacterial Head Rot',\n",
        "  'Lettuce Bacterial Wilt',\n",
        "  'Tomato Leaf Mold',\n",
        "  'Tomato Yellow Leaf Curl Virus',\n",
        "])\n",
        "\n",
        "path = \"/content/drive/MyDrive/w2/flutter/strawberry-healthy.png\"\n",
        "path = \"/content/drive/MyDrive/w2/flutter/strawberry-healthy-small.png\"\n",
        "path = \"/content/drive/MyDrive/w2/flutter/strawberry-healthy-small.jpg\"\n",
        "\n",
        "with open(path, \"rb\") as image_file:\n",
        "  encoded_string = base64.b64encode(image_file.read()).decode('utf-8')\n",
        "\n",
        "print (len(encoded_string))\n",
        "\n",
        "#url = \"https://zedisfh81b.execute-api.us-east-1.amazonaws.com/detect\"\n",
        "#url = \"https://qs9eqe954g.execute-api.us-east-1.amazonaws.com/detect\"\n",
        "url = \"https://ql824ne57l.execute-api.us-east-1.amazonaws.com/Prod/detect\" # 0304\n",
        "data =  {\n",
        "    \"image\": encoded_string\n",
        "}"
      ],
      "metadata": {
        "colab": {
          "base_uri": "https://localhost:8080/"
        },
        "id": "qaIThxtDAum3",
        "outputId": "bc88cebb-2bbf-4779-ac5d-fada4fa4040a"
      },
      "execution_count": 18,
      "outputs": [
        {
          "output_type": "stream",
          "name": "stdout",
          "text": [
            "43440\n"
          ]
        }
      ]
    },
    {
      "cell_type": "code",
      "source": [
        "%%time\n",
        "import requests\n",
        "response = requests.post(url, json=data)\n",
        "response.json()"
      ],
      "metadata": {
        "id": "ONKeDHDLA4dm",
        "colab": {
          "base_uri": "https://localhost:8080/"
        },
        "outputId": "716382bc-78f0-493a-b87f-869feb984838"
      },
      "execution_count": 20,
      "outputs": [
        {
          "output_type": "stream",
          "name": "stdout",
          "text": [
            "CPU times: user 78.4 ms, sys: 1.49 ms, total: 79.9 ms\n",
            "Wall time: 1.76 s\n"
          ]
        },
        {
          "output_type": "execute_result",
          "data": {
            "text/plain": [
              "{'class': \"[['Lettuce Healthy' 'Lettuce Healthy' 'Lettuce Healthy' ...\\n  'Strawberry Healthy' 'Strawberry Healthy' 'Tomato Healthy']]\",\n",
              " 'confidence': '[[0.9999988 1.        1.        ... 1.        1.        0.9999995]]'}"
            ]
          },
          "metadata": {},
          "execution_count": 20
        }
      ]
    },
    {
      "cell_type": "code",
      "source": [
        "response.headers"
      ],
      "metadata": {
        "colab": {
          "base_uri": "https://localhost:8080/"
        },
        "id": "0BFIcm9hxhmI",
        "outputId": "0d1aee0a-8534-48bd-b4de-673e7b437521"
      },
      "execution_count": 21,
      "outputs": [
        {
          "output_type": "execute_result",
          "data": {
            "text/plain": [
              "{'Date': 'Sun, 03 Mar 2024 15:56:49 GMT', 'Content-Type': 'text/plain; charset=utf-8', 'Content-Length': '221', 'Connection': 'keep-alive', 'accept': '*/*', 'Apigw-Requestid': 'UD2WFjPTIAMEMzQ='}"
            ]
          },
          "metadata": {},
          "execution_count": 21
        }
      ]
    },
    {
      "cell_type": "markdown",
      "source": [
        "## references\n",
        "\n",
        "* https://aws.amazon.com/ko/blogs/machine-learning/using-container-images-to-run-pytorch-models-in-aws-lambda/\n",
        "* https://github.com/ahmedbesbes/cartoonify/tree/main"
      ],
      "metadata": {
        "id": "aE8klxb7B0ur"
      }
    }
  ]
}