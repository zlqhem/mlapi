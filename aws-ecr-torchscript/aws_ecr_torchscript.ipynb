{
  "nbformat": 4,
  "nbformat_minor": 0,
  "metadata": {
    "colab": {
      "provenance": [],
      "gpuType": "T4",
      "toc_visible": true,
      "mount_file_id": "1kV1urdOGGwMjIOq5fnLBe_V6SxftwNUz",
      "authorship_tag": "ABX9TyOwd65jOgeNA4yoTEtnOMfC",
      "include_colab_link": true
    },
    "kernelspec": {
      "name": "python3",
      "display_name": "Python 3"
    },
    "language_info": {
      "name": "python"
    },
    "accelerator": "GPU"
  },
  "cells": [
    {
      "cell_type": "markdown",
      "metadata": {
        "id": "view-in-github",
        "colab_type": "text"
      },
      "source": [
        "<a href=\"https://colab.research.google.com/github/zlqhem/mlapi/blob/main/aws-ecr-torchscript/aws_ecr_torchscript.ipynb\" target=\"_parent\"><img src=\"https://colab.research.google.com/assets/colab-badge.svg\" alt=\"Open In Colab\"/></a>"
      ]
    },
    {
      "cell_type": "markdown",
      "source": [
        "# torchscript"
      ],
      "metadata": {
        "id": "xGdoe6EjzAdo"
      }
    },
    {
      "cell_type": "markdown",
      "source": [
        "## load a model from S3"
      ],
      "metadata": {
        "id": "gEAcaOgxAj76"
      }
    },
    {
      "cell_type": "code",
      "source": [
        "%%capture\n",
        "!pip install boto3 python-dotenv"
      ],
      "metadata": {
        "id": "K09aNKDczTrT"
      },
      "execution_count": null,
      "outputs": []
    },
    {
      "cell_type": "code",
      "source": [
        "# aws access key setup\n",
        "import dotenv\n",
        "# contains 'AWS_ACCESS_KEY', 'AWS_SCRET_ACCESS_KEY'\n",
        "env_file = \"/content/drive/MyDrive/w2/mlapi/aws.env\"\n",
        "dotenv.load_dotenv(env_file)"
      ],
      "metadata": {
        "id": "90-_mUNd00Ac",
        "colab": {
          "base_uri": "https://localhost:8080/"
        },
        "outputId": "e4fc695b-4853-4263-e43e-21b8ac11568e"
      },
      "execution_count": null,
      "outputs": [
        {
          "output_type": "execute_result",
          "data": {
            "text/plain": [
              "True"
            ]
          },
          "metadata": {},
          "execution_count": 21
        }
      ]
    },
    {
      "cell_type": "code",
      "source": [
        "try:\n",
        "    import unzip_requirements\n",
        "except ImportError:\n",
        "    pass\n",
        "\n",
        "import json\n",
        "from io import BytesIO\n",
        "import time\n",
        "import os\n",
        "import base64\n",
        "\n",
        "import boto3\n",
        "import numpy as np\n",
        "from PIL import Image\n",
        "\n",
        "import torch\n",
        "import torchvision.transforms as transforms\n",
        "import torchvision.utils as vutils\n",
        "import torch.nn.functional as F\n",
        "\n",
        "s3 = boto3.client(\"s3\")\n",
        "bucket = \"soltware.test\"\n",
        "key = \"v1/best.torchscript\"\n",
        "\n",
        "def download_model(s3, bucket, key):\n",
        "    file_name = os.path.basename(key)\n",
        "    print ('file_name', file_name)\n",
        "    s3.download_file(bucket, key, file_name)\n",
        "\n",
        "\n",
        "def load_model(s3, bucket):\n",
        "  response = s3.get_object(Bucket=bucket, Key=key)\n",
        "  #state = torch.load(BytesIO(response[\"Body\"].read()))\n",
        "  #model.load_state_dict(state)\n",
        "  #model.eval()\n",
        "\n",
        "  bytes_array = BytesIO(response[\"Body\"].read())\n",
        "  model = torch.jit.load(bytes_array, map_location=torch.device('cpu')).eval()\n",
        "  return model"
      ],
      "metadata": {
        "id": "qGqhqb_EzEPS"
      },
      "execution_count": null,
      "outputs": []
    },
    {
      "cell_type": "code",
      "source": [
        "download_model(s3, bucket, key)"
      ],
      "metadata": {
        "colab": {
          "base_uri": "https://localhost:8080/"
        },
        "id": "uvB0-y010sqd",
        "outputId": "52521761-8bc2-45e0-c9d4-104751ccaa4f"
      },
      "execution_count": null,
      "outputs": [
        {
          "output_type": "stream",
          "name": "stdout",
          "text": [
            "file_name best.torchscript\n"
          ]
        }
      ]
    },
    {
      "cell_type": "code",
      "source": [
        "!ls -al best.torchscript"
      ],
      "metadata": {
        "colab": {
          "base_uri": "https://localhost:8080/"
        },
        "id": "-mHwrQBd5m4d",
        "outputId": "45395edb-cecb-4da8-b495-f1e1e7856372"
      },
      "execution_count": null,
      "outputs": [
        {
          "output_type": "stream",
          "name": "stdout",
          "text": [
            "-rw-r--r-- 1 root root 103561564 Feb  4 16:14 best.torchscript\n"
          ]
        }
      ]
    },
    {
      "cell_type": "code",
      "source": [
        "!date"
      ],
      "metadata": {
        "colab": {
          "base_uri": "https://localhost:8080/"
        },
        "id": "BHS-xane5p7O",
        "outputId": "c8c72cfd-98f0-4886-ac71-aade378c1cf4"
      },
      "execution_count": null,
      "outputs": [
        {
          "output_type": "stream",
          "name": "stdout",
          "text": [
            "Sun Feb  4 04:14:51 PM UTC 2024\n"
          ]
        }
      ]
    },
    {
      "cell_type": "code",
      "source": [
        "model = load_model(s3, bucket)"
      ],
      "metadata": {
        "id": "fqoOALMy6Gg2"
      },
      "execution_count": null,
      "outputs": []
    },
    {
      "cell_type": "code",
      "source": [
        "model"
      ],
      "metadata": {
        "colab": {
          "base_uri": "https://localhost:8080/"
        },
        "id": "QGSmv9JJ7OGi",
        "outputId": "8d9f2fe8-b76f-4db3-e2a5-a6d2271e7ffc"
      },
      "execution_count": null,
      "outputs": [
        {
          "output_type": "execute_result",
          "data": {
            "text/plain": [
              "RecursiveScriptModule(original_name=DetectionModel)"
            ]
          },
          "metadata": {},
          "execution_count": 29
        }
      ]
    },
    {
      "cell_type": "markdown",
      "source": [
        "## lambda handler"
      ],
      "metadata": {
        "id": "dgvbqmqxBVki"
      }
    },
    {
      "cell_type": "code",
      "source": [
        "classes = np.array([\n",
        "  'Tomato Healthy',\n",
        "  'Strawberry Healthy',\n",
        "  'Lettuce Healthy',\n",
        "  'Strawberry Ashy Mold',\n",
        "  'Strawberry White Powdery Mildew',\n",
        "  'Lettuce Bacterial Head Rot',\n",
        "  'Lettuce Bacterial Wilt',\n",
        "  'Tomato Leaf Mold',\n",
        "  'Tomato Yellow Leaf Curl Virus',\n",
        "])\n",
        "\n",
        "def lambda_handler(event, context):\n",
        "    '''\n",
        "    if event.get(\"source\") in [\"aws.events\", \"serverless-plugin-warmup\"]:\n",
        "        print('Lambda is warm!')\n",
        "        return {}\n",
        "    '''\n",
        "\n",
        "    data = json.loads(event[\"body\"])\n",
        "    print(\"data keys:\", data.keys())\n",
        "    image = data[\"image\"]\n",
        "    response = predict(input_fn_stream(image), model)\n",
        "    return {\n",
        "        'statusCode': 200,\n",
        "        'body': json.dumps(response)\n",
        "    }\n",
        "\n",
        "def input_fn_stream(image):\n",
        "    image = image[image.find(\",\")+1:]\n",
        "    dec = base64.b64decode(image + \"===\")\n",
        "    byte_array = BytesIO(dec)\n",
        "\n",
        "    im = Image.open(byte_array).resize((640,640))\n",
        "    im = im.convert(\"RGB\")\n",
        "\n",
        "    #https://dev.to/andreygermanov/how-to-create-yolov8-based-object-detection-web-service-using-python-julia-nodejs-javascript-go-and-rust-4o8e#prepare_the_input\n",
        "    # \"We do not need Alpha channel in the image for YOLOv8 predictions. Let's remove it\"\n",
        "    input = np.array(im)\n",
        "    input = input.transpose(2,0,1)\n",
        "    input = input.reshape(1,3,640,640)\n",
        "    input = input/255.0\n",
        "    return torch.Tensor(input)\n",
        "\n",
        "def predict(img_tensor, model):\n",
        "  predict_values = model(img_tensor)\n",
        "  print(predict_values[0].shape)\n",
        "  print('predict_values[0]', predict_values[0])\n",
        "  preds = F.softmax(predict_values, dim=1)\n",
        "  conf_score, indx = torch.max(preds, dim=1)\n",
        "  conf_score = conf_score.cpu().numpy()\n",
        "  indx = indx.cpu().numpy()\n",
        "  predict_class = classes[indx]\n",
        "  response = {}\n",
        "  response['class'] = str(predict_class)\n",
        "  response['confidence'] = str(conf_score)\n",
        "  return response\n"
      ],
      "metadata": {
        "id": "DfcYogpsBYmW"
      },
      "execution_count": null,
      "outputs": []
    },
    {
      "cell_type": "markdown",
      "source": [
        "## Use the deployed API\n"
      ],
      "metadata": {
        "id": "PCGpmodJAYVU"
      }
    },
    {
      "cell_type": "code",
      "source": [
        "path = \"/content/drive/MyDrive/w2/flutter/strawberry-healthy.png\"\n",
        "\n",
        "with open(path, \"rb\") as image_file:\n",
        "  encoded_string = base64.b64encode(image_file.read()).decode('utf-8')\n",
        "\n",
        "print (len(encoded_string))\n",
        "\n",
        "url = \"TBD\"\n",
        "\n",
        "data =  {\n",
        "    \"image\": encoded_string\n",
        "}"
      ],
      "metadata": {
        "colab": {
          "base_uri": "https://localhost:8080/"
        },
        "id": "qaIThxtDAum3",
        "outputId": "078333cb-b46c-47dc-8e05-07f317945fcb"
      },
      "execution_count": null,
      "outputs": [
        {
          "output_type": "stream",
          "name": "stdout",
          "text": [
            "844988\n"
          ]
        }
      ]
    },
    {
      "cell_type": "code",
      "source": [
        "body = json.dumps(data)\n",
        "res = lambda_handler({\"body\": body}, {})\n",
        "print(res)\n",
        "body = res[\"body\"]\n",
        "json_data = json.loads(body)\n",
        "print(json_data)"
      ],
      "metadata": {
        "colab": {
          "base_uri": "https://localhost:8080/"
        },
        "id": "QJWu3ghwCHm-",
        "outputId": "536cc2eb-d572-44fd-93e6-f53f5747180d"
      },
      "execution_count": null,
      "outputs": [
        {
          "output_type": "stream",
          "name": "stdout",
          "text": [
            "data keys: dict_keys(['image'])\n",
            "torch.Size([13, 8400])\n",
            "predict_values[0] tensor([[1.5857e+01, 3.6524e+01, 4.8894e+01,  ..., 5.0013e+02, 5.2872e+02,\n",
            "         5.8240e+02],\n",
            "        [9.9368e+00, 1.2355e+01, 1.6714e+01,  ..., 5.7213e+02, 5.7526e+02,\n",
            "         5.7146e+02],\n",
            "        [3.2870e+01, 7.3306e+01, 9.7783e+01,  ..., 2.7847e+02, 2.2293e+02,\n",
            "         1.1958e+02],\n",
            "        ...,\n",
            "        [1.5544e-09, 3.8068e-10, 2.1305e-09,  ..., 3.0667e-10, 4.3925e-09,\n",
            "         1.2591e-08],\n",
            "        [1.7935e-09, 3.4876e-10, 1.7459e-09,  ..., 2.0698e-10, 3.2835e-09,\n",
            "         1.1948e-08],\n",
            "        [4.9995e-09, 2.0060e-09, 1.2173e-08,  ..., 3.2706e-10, 3.1460e-09,\n",
            "         8.3934e-09]])\n",
            "{'statusCode': 200, 'body': '{\"class\": \"[[\\'Lettuce Healthy\\' \\'Lettuce Healthy\\' \\'Lettuce Healthy\\' ...\\\\n  \\'Strawberry Healthy\\' \\'Strawberry Healthy\\' \\'Tomato Healthy\\']]\", \"confidence\": \"[[0.9999974  1.         1.         ... 1.         1.         0.99998224]]\"}'}\n",
            "{'class': \"[['Lettuce Healthy' 'Lettuce Healthy' 'Lettuce Healthy' ...\\n  'Strawberry Healthy' 'Strawberry Healthy' 'Tomato Healthy']]\", 'confidence': '[[0.9999974  1.         1.         ... 1.         1.         0.99998224]]'}\n"
          ]
        }
      ]
    },
    {
      "cell_type": "code",
      "source": [
        "# TBD\n",
        "import requests\n",
        "response = requests.post(url, json=data)"
      ],
      "metadata": {
        "id": "ONKeDHDLA4dm"
      },
      "execution_count": null,
      "outputs": []
    },
    {
      "cell_type": "markdown",
      "source": [
        "## references\n",
        "\n",
        "* https://aws.amazon.com/ko/blogs/machine-learning/using-container-images-to-run-pytorch-models-in-aws-lambda/\n",
        "* https://github.com/ahmedbesbes/cartoonify/tree/main"
      ],
      "metadata": {
        "id": "aE8klxb7B0ur"
      }
    },
    {
      "cell_type": "code",
      "source": [],
      "metadata": {
        "id": "wkfUcW0hJvdo"
      },
      "execution_count": null,
      "outputs": []
    }
  ]
}