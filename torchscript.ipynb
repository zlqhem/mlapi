{
  "nbformat": 4,
  "nbformat_minor": 0,
  "metadata": {
    "colab": {
      "provenance": [],
      "gpuType": "T4",
      "mount_file_id": "1kV1urdOGGwMjIOq5fnLBe_V6SxftwNUz",
      "authorship_tag": "ABX9TyPD1Yv+1leeEoE4kKGhzUi+",
      "include_colab_link": true
    },
    "kernelspec": {
      "name": "python3",
      "display_name": "Python 3"
    },
    "language_info": {
      "name": "python"
    },
    "accelerator": "GPU"
  },
  "cells": [
    {
      "cell_type": "markdown",
      "metadata": {
        "id": "view-in-github",
        "colab_type": "text"
      },
      "source": [
        "<a href=\"https://colab.research.google.com/github/zlqhem/mlapi/blob/main/torchscript.ipynb\" target=\"_parent\"><img src=\"https://colab.research.google.com/assets/colab-badge.svg\" alt=\"Open In Colab\"/></a>"
      ]
    },
    {
      "cell_type": "code",
      "execution_count": null,
      "metadata": {
        "id": "FO1H8Oe9iF28"
      },
      "outputs": [],
      "source": [
        "import numpy as np\n",
        "model_file = '/content/drive/MyDrive/w2/flutter/best.torchscript'\n",
        "image_file = '/content/drive/MyDrive/w2/flutter/strawberry-healthy.png'\n",
        "img=image_file\n",
        "\n",
        "classes = np.array([\n",
        "  'Tomato Healthy',\n",
        "  'Strawberry Healthy',\n",
        "  'Lettuce Healthy',\n",
        "  'Strawberry Ashy Mold',\n",
        "  'Strawberry White Powdery Mildew',\n",
        "  'Lettuce Bacterial Head Rot',\n",
        "  'Lettuce Bacterial Wilt',\n",
        "  'Tomato Leaf Mold',\n",
        "  'Tomato Yellow Leaf Curl Virus',\n",
        "])"
      ]
    },
    {
      "cell_type": "code",
      "source": [
        "import torch\n",
        "print(torch.__version__)"
      ],
      "metadata": {
        "colab": {
          "base_uri": "https://localhost:8080/"
        },
        "id": "kcQA3uEfiWSG",
        "outputId": "1e5b5eeb-203c-4596-f970-8b8a67e7fdd1"
      },
      "execution_count": null,
      "outputs": [
        {
          "output_type": "stream",
          "name": "stdout",
          "text": [
            "2.1.0+cu121\n"
          ]
        }
      ]
    },
    {
      "cell_type": "code",
      "source": [
        "!ls -al /content/drive/MyDrive/w2/flutter/best.torchscript"
      ],
      "metadata": {
        "colab": {
          "base_uri": "https://localhost:8080/"
        },
        "id": "GiWr3PvxiZfF",
        "outputId": "ce5a1e97-099a-4229-fdb5-d1c6b5ff3d81"
      },
      "execution_count": null,
      "outputs": [
        {
          "output_type": "stream",
          "name": "stdout",
          "text": [
            "-rw------- 1 root root 103561564 Nov  4 01:43 /content/drive/MyDrive/w2/flutter/best.torchscript\n"
          ]
        }
      ]
    },
    {
      "cell_type": "code",
      "source": [
        "import time\n",
        "s = time.time()\n",
        "model = torch.jit.load(model_file, map_location=torch.device('cpu')).eval()\n",
        "#model = torch.jit.load(model_file).eval()\n",
        "e = time.time()\n",
        "print (e-s)"
      ],
      "metadata": {
        "colab": {
          "base_uri": "https://localhost:8080/"
        },
        "id": "vVIlCpSEipG-",
        "outputId": "5a29d25d-eb49-483c-adf0-11c2ac14e64b"
      },
      "execution_count": null,
      "outputs": [
        {
          "output_type": "stream",
          "name": "stdout",
          "text": [
            "0.26126956939697266\n"
          ]
        }
      ]
    },
    {
      "cell_type": "code",
      "source": [
        "import torch\n",
        "from PIL import Image\n",
        "from torchvision import models, transforms\n",
        "import json\n",
        "#import boto3\n",
        "import logging\n",
        "#import base64\n",
        "from io import BytesIO\n",
        "import torch.nn.functional as F\n",
        "import numpy as np\n",
        "\n",
        "preprocess = transforms.Compose([\n",
        "    transforms.Resize(640),\n",
        "    #transforms.CenterCrop(224),\n",
        "    transforms.ToTensor(),\n",
        "    transforms.Normalize(mean=[0.485, 0.456, 0.406], std=[0.229, 0.224, 0.225])\n",
        "])\n",
        "\n",
        "\n",
        "def lambda_handler(event, context):\n",
        "  # example\n",
        "  response = predict(input_fn(image_file), model)\n",
        "  return {\n",
        "      'statusCode': 200,\n",
        "      'body': json.dumps(response)\n",
        "  }\n",
        "\n",
        "def input_fn(image_file):\n",
        "  im = Image.open(image_file).resize((640,640))\n",
        "  #https://dev.to/andreygermanov/how-to-create-yolov8-based-object-detection-web-service-using-python-julia-nodejs-javascript-go-and-rust-4o8e#prepare_the_input\n",
        "  # \"We do not need Alpha channel in the image for YOLOv8 predictions. Let's remove it\"\n",
        "  im = im.convert('RGB')\n",
        "  img_tensor = preprocess(im)\n",
        "  img_tensor = img_tensor.unsqueeze(0)\n",
        "  return img_tensor\n",
        "\n",
        "def input_fn(image_file):\n",
        "  im = Image.open(image_file).resize((640,640))\n",
        "  #https://dev.to/andreygermanov/how-to-create-yolov8-based-object-detection-web-service-using-python-julia-nodejs-javascript-go-and-rust-4o8e#prepare_the_input\n",
        "  # \"We do not need Alpha channel in the image for YOLOv8 predictions. Let's remove it\"\n",
        "  im = im.convert('RGB')\n",
        "  input = np.array(im)\n",
        "  input = input.transpose(2,0,1)\n",
        "  input = input.reshape(1,3,640,640)\n",
        "  input = input/255.0\n",
        "  return torch.Tensor(input)\n",
        "\n",
        "\n",
        "def predict(img_tensor, model):\n",
        "  predict_values = model(img_tensor)\n",
        "  print(predict_values[0].shape)\n",
        "  preds = F.softmax(predict_values, dim=1)\n",
        "  conf_score, indx = torch.max(preds, dim=1)\n",
        "  conf_score = conf_score.cpu().numpy()\n",
        "  indx = indx.cpu().numpy()\n",
        "  predict_class = classes[indx]\n",
        "  response = {}\n",
        "  response['class'] = str(predict_class)\n",
        "  response['confidence'] = str(conf_score)\n",
        "  return response\n",
        "\n",
        "# test\n",
        "lambda_handler(None, None)\n"
      ],
      "metadata": {
        "colab": {
          "base_uri": "https://localhost:8080/"
        },
        "id": "lampIvD-Hhj0",
        "outputId": "ae1e809f-a409-4060-b664-5bc107c42861"
      },
      "execution_count": null,
      "outputs": [
        {
          "output_type": "stream",
          "name": "stdout",
          "text": [
            "torch.Size([13, 8400])\n"
          ]
        },
        {
          "output_type": "execute_result",
          "data": {
            "text/plain": [
              "{'statusCode': 200,\n",
              " 'body': '{\"class\": \"[[\\'Lettuce Healthy\\' \\'Lettuce Healthy\\' \\'Lettuce Healthy\\' ...\\\\n  \\'Strawberry Healthy\\' \\'Strawberry Healthy\\' \\'Tomato Healthy\\']]\", \"confidence\": \"[[0.9999974  1.         1.         ... 1.         1.         0.99998224]]\"}'}"
            ]
          },
          "metadata": {},
          "execution_count": 91
        }
      ]
    },
    {
      "cell_type": "code",
      "source": [],
      "metadata": {
        "id": "AgWrVxS_mw-C"
      },
      "execution_count": null,
      "outputs": []
    }
  ]
}